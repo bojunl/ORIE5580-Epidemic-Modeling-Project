{
 "cells": [
  {
   "cell_type": "markdown",
   "metadata": {},
   "source": [
    "## Final Project Report\n",
    "\n",
    "#### Bojun Li (bl755), Jiongjiang Duan (jd2253), Jiaqi Zhang (jz2232), Lihe Cao (lc977)"
   ]
  },
  {
   "cell_type": "markdown",
   "metadata": {},
   "source": [
    "### 1. Executive Summary\n",
    "\n",
    "This is the part of your report that the project managers will read.\n",
    "Give a synopsis of what you did, what you discovered, and how the tools you developed\n",
    "can be used further. Think what you would want to know if you were a high-level\n",
    "manager and this was all that you read. This section should be short (at most two\n",
    "pages of text).\n"
   ]
  },
  {
   "cell_type": "markdown",
   "metadata": {},
   "source": [
    "### 2. Modeling Approach, Assumptions, and Parameters\n",
    "\n",
    "Modeling approach, assumptions, parameters: Describe the simulation model in general\n",
    "terms. This section is for intelligent non-specialists, who want to ensure that your model\n",
    "is reasonable and captures all of the important aspects. Describe also what inputs are\n",
    "needed to drive your model and how you obtained them. You may want to defer a large\n",
    "part of this section to the appendices if it is predominately technical in nature, but you\n",
    "should at least describe what you found in the data in a manner suitable for intelligent\n",
    "non-specialists.\n"
   ]
  },
  {
   "cell_type": "markdown",
   "metadata": {},
   "source": [
    "### 3. Model Details\n",
    "\n",
    " Describe the model in technical detail, in a way accessible to experts.\n",
    "You can import diagrams to detail your Markov chain. Also, explain in broad strokes\n",
    "how you checked that your model was correct as implemented (you can refer to detailed\n",
    "tests in the appendix sections). The goal is to convince decision makers that your model\n",
    "can be trusted to correctly answer the questions it was designed to answer."
   ]
  },
  {
   "cell_type": "markdown",
   "metadata": {},
   "source": [
    "### 4. Model analysis\n",
    "\n",
    "Describe how you used your model to study different questions about\n",
    "vaccination strategies. For each analysis, clearly explain what you are testing, and\n",
    "then present the output (with confidence bounds, axis labels and legends). Analyze\n",
    "the results and make recommendations. Think about sensitivity analysis for quantities\n",
    "that are uncertain or approximate, and how robust your recommendation is to such\n",
    "changes. Your readers may not be simulation specialists and cannot possibly know all\n",
    "that simulation has to offer. Therefore be creative and try to go above and beyond what\n",
    "has been asked for.\n"
   ]
  },
  {
   "cell_type": "markdown",
   "metadata": {},
   "source": [
    "### 5. Conclusions\n",
    "\n",
    "Briefly recap your findings and recommendations."
   ]
  },
  {
   "cell_type": "markdown",
   "metadata": {},
   "source": [
    "### 6. Technical Appendices\n",
    "\n",
    "These are intended for a simulation specialist who has training at\n",
    "the level of having taken ORIE 4580/5580 in the past. Readers of this section understand\n",
    "simulation concepts and have some familiarity with Python. Think separately about the\n",
    "model and the implementation, and give any critical details about the model, and its\n",
    "implementation. In particular, you should detail any functions that your code makes\n",
    "available, and give the reader an opportunity to test out parts of the code (for example,\n",
    "via animations, etc.). The aim is to provide details for someone who can then build on\n",
    "your code-base.\n"
   ]
  },
  {
   "cell_type": "code",
   "execution_count": null,
   "metadata": {},
   "outputs": [],
   "source": []
  }
 ],
 "metadata": {
  "kernelspec": {
   "display_name": "Python 3",
   "language": "python",
   "name": "python3"
  },
  "language_info": {
   "codemirror_mode": {
    "name": "ipython",
    "version": 3
   },
   "file_extension": ".py",
   "mimetype": "text/x-python",
   "name": "python",
   "nbconvert_exporter": "python",
   "pygments_lexer": "ipython3",
   "version": "3.8.6"
  }
 },
 "nbformat": 4,
 "nbformat_minor": 4
}
